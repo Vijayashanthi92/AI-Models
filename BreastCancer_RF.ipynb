{
 "cells": [
  {
   "cell_type": "code",
   "execution_count": null,
   "id": "05375a9c-1859-4528-b603-34a43af480c6",
   "metadata": {},
   "outputs": [],
   "source": [
    "# Step 1: Importing Required Libraries\n",
    "import pandas as pd\n",
    "import numpy as np\n",
    "import seaborn as sns\n",
    "import matplotlib.pyplot as plt\n",
    "from sklearn.model_selection import train_test_split\n",
    "from sklearn.preprocessing import StandardScaler, LabelEncoder\n",
    "from sklearn.ensemble import RandomForestClassifier\n",
    "from sklearn.metrics import accuracy_score, classification_report, confusion_matrix\n",
    "import joblib  # To save the model\n",
    "\n",
    "# Step 2: Load the Dataset\n",
    "url = \"https://archive.ics.uci.edu/ml/machine-learning-databases/breast-cancer-wisconsin/wdbc.data\"\n",
    "columns = [\"ID\", \"Diagnosis\"] + [f\"Feature_{i}\" for i in range(1, 31)]\n",
    "df = pd.read_csv(url, names=columns)\n",
    "\n",
    "# Step 3: Data Preprocessing\n",
    "df.drop(columns=[\"ID\"], inplace=True)  # Remove ID column\n",
    "df[\"Diagnosis\"] = LabelEncoder().fit_transform(df[\"Diagnosis\"])  # Convert M (1) & B (0)\n",
    "\n",
    "# Step 4: Split Dataset\n",
    "X = df.drop(columns=[\"Diagnosis\"])\n",
    "y = df[\"Diagnosis\"]\n",
    "X_train, X_test, y_train, y_test = train_test_split(X, y, test_size=0.2, random_state=42)\n",
    "\n",
    "# Step 5: Feature Scaling\n",
    "scaler = StandardScaler()\n",
    "X_train = scaler.fit_transform(X_train)\n",
    "X_test = scaler.transform(X_test)\n",
    "\n",
    "# Step 6: Train a Model\n",
    "model = RandomForestClassifier(n_estimators=100, random_state=42)\n",
    "model.fit(X_train, y_train)\n",
    "\n",
    "# Step 7: Evaluate the Model\n",
    "y_pred = model.predict(X_test)\n",
    "print(\"Accuracy:\", accuracy_score(y_test, y_pred))\n",
    "print(\"Classification Report:\\n\", classification_report(y_test, y_pred))\n",
    "print(\"Confusion Matrix:\\n\", confusion_matrix(y_test, y_pred))\n",
    "\n",
    "# Step 8: Save the Model\n",
    "joblib.dump(model, \"vijayashanthi_model_v1.pkl\")\n"
   ]
  }
 ],
 "metadata": {
  "kernelspec": {
   "display_name": "Python 3 (ipykernel)",
   "language": "python",
   "name": "python3"
  },
  "language_info": {
   "codemirror_mode": {
    "name": "ipython",
    "version": 3
   },
   "file_extension": ".py",
   "mimetype": "text/x-python",
   "name": "python",
   "nbconvert_exporter": "python",
   "pygments_lexer": "ipython3",
   "version": "3.12.4"
  }
 },
 "nbformat": 4,
 "nbformat_minor": 5
}
